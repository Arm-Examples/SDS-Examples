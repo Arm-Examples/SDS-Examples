{
 "cells": [
  {
   "cell_type": "code",
   "execution_count": null,
   "metadata": {
    "tags": [
     "Optional"
    ]
   },
   "outputs": [],
   "source": [
    "# Install the required packages\n",
    "%pip install -r requirements.txt"
   ]
  },
  {
   "cell_type": "code",
   "execution_count": null,
   "metadata": {},
   "outputs": [],
   "source": [
    "# Cell with the code to display the content of the selected SDS file\n",
    "import os\n",
    "import ipywidgets as widgets\n",
    "from IPython.display import display\n",
    "import numpy as np\n",
    "from sdsconvert import RecordManager\n",
    "import matplotlib.pyplot as plt\n",
    "\n",
    "# Function to display the content of the selected file\n",
    "def display_file_content(change):\n",
    "    selected_filename = change['new']\n",
    "    if selected_filename == \"Select SDS File...\":\n",
    "        return\n",
    "    \n",
    "    selected_filepath = sds_files[sds_filenames.index(selected_filename) - 1]\n",
    "    \n",
    "    # Create RecordManager instance\n",
    "    record_mgr = RecordManager()\n",
    "\n",
    "    # Open and read the SDS file\n",
    "    with open(selected_filepath, 'rb') as file:\n",
    "        data = record_mgr.getData(file)\n",
    "\n",
    "    # Extract timestamps and convert to seconds\n",
    "    timestamps = np.array(data['timestamp']) / 1000.0  # Convert ms to s\n",
    "\n",
    "    # Get raw data and convert according to the data format\n",
    "    raw_data = data['raw_data']\n",
    "    data_size = data['data_size']\n",
    "\n",
    "    # Process the raw data into numpy arrays\n",
    "    gyro_data = []\n",
    "    offset = 0\n",
    "    for size in data_size:\n",
    "        # Each sample has 3 values (x,y,z) of 2 bytes each\n",
    "        sample = np.frombuffer(raw_data[offset:offset+6], dtype=np.int16)\n",
    "        gyro_data.append(sample)\n",
    "        offset += size\n",
    "\n",
    "    gyro_data = np.array(gyro_data)\n",
    "\n",
    "    # Plot the data\n",
    "    plt.figure(figsize=(12, 6))\n",
    "    plt.plot(timestamps, gyro_data[:, 0], label='X-axis')\n",
    "    plt.plot(timestamps, gyro_data[:, 1], label='Y-axis')\n",
    "    plt.plot(timestamps, gyro_data[:, 2], label='Z-axis')\n",
    "    plt.xlabel('Time (s)')\n",
    "    plt.ylabel('Gyroscope Reading')\n",
    "    plt.title(f'Gyroscope Data from {selected_filename}')\n",
    "    plt.legend()\n",
    "    plt.grid(True)\n",
    "    plt.show()\n",
    "\n"
   ]
  },
  {
   "cell_type": "markdown",
   "metadata": {},
   "source": [
    "# Visualize SDS Data\n",
    "\n",
    "The provided code snippet is a Jupyter Notebook cell that allows users to select and visualize data from .sds files using a dropdown. Run the block to populate the dropdown menu with the files in the folder Test."
   ]
  },
  {
   "cell_type": "code",
   "execution_count": null,
   "metadata": {},
   "outputs": [],
   "source": [
    "# Run this cell to find SDS files and update dropdown\n",
    "sds_files = []\n",
    "sds_filenames = [\"Select SDS File...\"]\n",
    "\n",
    "# Walk through the directory\n",
    "for root, dirs, files in os.walk('..'):\n",
    "    for file in files:\n",
    "        if file.endswith('.sds'):\n",
    "            sds_files.append(os.path.join(root, file))\n",
    "            sds_filenames.append(file)\n",
    "\n",
    "# Create a dropdown widget\n",
    "dropdown = widgets.Dropdown(\n",
    "    options=sds_filenames,\n",
    "    description='SDS Files:',\n",
    "    disabled=False,\n",
    ")\n",
    "\n",
    "# Attach the callback function to the dropdown\n",
    "dropdown.observe(display_file_content, names='value')\n",
    "\n",
    "# Display the dropdown\n",
    "display(dropdown)\n",
    "\n"
   ]
  }
 ],
 "metadata": {
  "kernelspec": {
   "display_name": "Python 3",
   "language": "python",
   "name": "python3"
  },
  "language_info": {
   "codemirror_mode": {
    "name": "ipython",
    "version": 3
   },
   "file_extension": ".py",
   "mimetype": "text/x-python",
   "name": "python",
   "nbconvert_exporter": "python",
   "pygments_lexer": "ipython3",
   "version": "3.11.5"
  }
 },
 "nbformat": 4,
 "nbformat_minor": 2
}
