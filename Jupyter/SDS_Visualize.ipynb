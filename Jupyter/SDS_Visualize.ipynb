{
 "cells": [
  {
   "cell_type": "code",
   "execution_count": 2,
   "metadata": {
    "tags": [
     "Optional"
    ]
   },
   "outputs": [
    {
     "name": "stdout",
     "output_type": "stream",
     "text": [
      "Requirement already satisfied: ipywidgets in /Library/Frameworks/Python.framework/Versions/3.11/lib/python3.11/site-packages (from -r requirements.txt (line 1)) (8.1.5)\n",
      "Requirement already satisfied: matplotlib in /Library/Frameworks/Python.framework/Versions/3.11/lib/python3.11/site-packages (from -r requirements.txt (line 2)) (3.10.1)\n",
      "Requirement already satisfied: numpy in /Library/Frameworks/Python.framework/Versions/3.11/lib/python3.11/site-packages (from -r requirements.txt (line 3)) (1.26.4)\n",
      "Requirement already satisfied: pandas in /Library/Frameworks/Python.framework/Versions/3.11/lib/python3.11/site-packages (from -r requirements.txt (line 4)) (2.2.3)\n",
      "Collecting pyyml (from -r requirements.txt (line 5))\n",
      "  Obtaining dependency information for pyyml from https://files.pythonhosted.org/packages/20/c4/3996ead5533b19da63409c0e5e56827f0e5ed8228c771d587ac98c63c157/pyyml-0.0.2-py2.py3-none-any.whl.metadata\n",
      "  Downloading pyyml-0.0.2-py2.py3-none-any.whl.metadata (931 bytes)\n",
      "Requirement already satisfied: comm>=0.1.3 in /Users/mather01/Library/Python/3.11/lib/python/site-packages (from ipywidgets->-r requirements.txt (line 1)) (0.2.2)\n",
      "Requirement already satisfied: ipython>=6.1.0 in /Users/mather01/Library/Python/3.11/lib/python/site-packages (from ipywidgets->-r requirements.txt (line 1)) (9.0.1)\n",
      "Requirement already satisfied: traitlets>=4.3.1 in /Users/mather01/Library/Python/3.11/lib/python/site-packages (from ipywidgets->-r requirements.txt (line 1)) (5.14.3)\n",
      "Requirement already satisfied: widgetsnbextension~=4.0.12 in /Library/Frameworks/Python.framework/Versions/3.11/lib/python3.11/site-packages (from ipywidgets->-r requirements.txt (line 1)) (4.0.13)\n",
      "Requirement already satisfied: jupyterlab-widgets~=3.0.12 in /Library/Frameworks/Python.framework/Versions/3.11/lib/python3.11/site-packages (from ipywidgets->-r requirements.txt (line 1)) (3.0.13)\n",
      "Requirement already satisfied: contourpy>=1.0.1 in /Library/Frameworks/Python.framework/Versions/3.11/lib/python3.11/site-packages (from matplotlib->-r requirements.txt (line 2)) (1.3.1)\n",
      "Requirement already satisfied: cycler>=0.10 in /Library/Frameworks/Python.framework/Versions/3.11/lib/python3.11/site-packages (from matplotlib->-r requirements.txt (line 2)) (0.12.1)\n",
      "Requirement already satisfied: fonttools>=4.22.0 in /Library/Frameworks/Python.framework/Versions/3.11/lib/python3.11/site-packages (from matplotlib->-r requirements.txt (line 2)) (4.56.0)\n",
      "Requirement already satisfied: kiwisolver>=1.3.1 in /Library/Frameworks/Python.framework/Versions/3.11/lib/python3.11/site-packages (from matplotlib->-r requirements.txt (line 2)) (1.4.8)\n",
      "Requirement already satisfied: packaging>=20.0 in /Users/mather01/Library/Python/3.11/lib/python/site-packages (from matplotlib->-r requirements.txt (line 2)) (24.2)\n",
      "Requirement already satisfied: pillow>=8 in /Library/Frameworks/Python.framework/Versions/3.11/lib/python3.11/site-packages (from matplotlib->-r requirements.txt (line 2)) (11.1.0)\n",
      "Requirement already satisfied: pyparsing>=2.3.1 in /Library/Frameworks/Python.framework/Versions/3.11/lib/python3.11/site-packages (from matplotlib->-r requirements.txt (line 2)) (3.2.1)\n",
      "Requirement already satisfied: python-dateutil>=2.7 in /Users/mather01/Library/Python/3.11/lib/python/site-packages (from matplotlib->-r requirements.txt (line 2)) (2.9.0.post0)\n",
      "Requirement already satisfied: pytz>=2020.1 in /Library/Frameworks/Python.framework/Versions/3.11/lib/python3.11/site-packages (from pandas->-r requirements.txt (line 4)) (2025.1)\n",
      "Requirement already satisfied: tzdata>=2022.7 in /Library/Frameworks/Python.framework/Versions/3.11/lib/python3.11/site-packages (from pandas->-r requirements.txt (line 4)) (2025.1)\n",
      "Requirement already satisfied: pyyaml>=3.13 in /Library/Frameworks/Python.framework/Versions/3.11/lib/python3.11/site-packages (from pyyml->-r requirements.txt (line 5)) (6.0.2)\n",
      "Requirement already satisfied: decorator in /Users/mather01/Library/Python/3.11/lib/python/site-packages (from ipython>=6.1.0->ipywidgets->-r requirements.txt (line 1)) (5.2.1)\n",
      "Requirement already satisfied: ipython-pygments-lexers in /Users/mather01/Library/Python/3.11/lib/python/site-packages (from ipython>=6.1.0->ipywidgets->-r requirements.txt (line 1)) (1.1.1)\n",
      "Requirement already satisfied: jedi>=0.16 in /Users/mather01/Library/Python/3.11/lib/python/site-packages (from ipython>=6.1.0->ipywidgets->-r requirements.txt (line 1)) (0.19.2)\n",
      "Requirement already satisfied: matplotlib-inline in /Users/mather01/Library/Python/3.11/lib/python/site-packages (from ipython>=6.1.0->ipywidgets->-r requirements.txt (line 1)) (0.1.7)\n",
      "Requirement already satisfied: pexpect>4.3 in /Users/mather01/Library/Python/3.11/lib/python/site-packages (from ipython>=6.1.0->ipywidgets->-r requirements.txt (line 1)) (4.9.0)\n",
      "Requirement already satisfied: prompt_toolkit<3.1.0,>=3.0.41 in /Users/mather01/Library/Python/3.11/lib/python/site-packages (from ipython>=6.1.0->ipywidgets->-r requirements.txt (line 1)) (3.0.50)\n",
      "Requirement already satisfied: pygments>=2.4.0 in /Users/mather01/Library/Python/3.11/lib/python/site-packages (from ipython>=6.1.0->ipywidgets->-r requirements.txt (line 1)) (2.19.1)\n",
      "Requirement already satisfied: stack_data in /Users/mather01/Library/Python/3.11/lib/python/site-packages (from ipython>=6.1.0->ipywidgets->-r requirements.txt (line 1)) (0.6.3)\n",
      "Requirement already satisfied: typing_extensions>=4.6 in /Users/mather01/Library/Python/3.11/lib/python/site-packages (from ipython>=6.1.0->ipywidgets->-r requirements.txt (line 1)) (4.12.2)\n",
      "Requirement already satisfied: six>=1.5 in /Users/mather01/Library/Python/3.11/lib/python/site-packages (from python-dateutil>=2.7->matplotlib->-r requirements.txt (line 2)) (1.17.0)\n",
      "Requirement already satisfied: parso<0.9.0,>=0.8.4 in /Users/mather01/Library/Python/3.11/lib/python/site-packages (from jedi>=0.16->ipython>=6.1.0->ipywidgets->-r requirements.txt (line 1)) (0.8.4)\n",
      "Requirement already satisfied: ptyprocess>=0.5 in /Users/mather01/Library/Python/3.11/lib/python/site-packages (from pexpect>4.3->ipython>=6.1.0->ipywidgets->-r requirements.txt (line 1)) (0.7.0)\n",
      "Requirement already satisfied: wcwidth in /Users/mather01/Library/Python/3.11/lib/python/site-packages (from prompt_toolkit<3.1.0,>=3.0.41->ipython>=6.1.0->ipywidgets->-r requirements.txt (line 1)) (0.2.13)\n",
      "Requirement already satisfied: executing>=1.2.0 in /Users/mather01/Library/Python/3.11/lib/python/site-packages (from stack_data->ipython>=6.1.0->ipywidgets->-r requirements.txt (line 1)) (2.2.0)\n",
      "Requirement already satisfied: asttokens>=2.1.0 in /Users/mather01/Library/Python/3.11/lib/python/site-packages (from stack_data->ipython>=6.1.0->ipywidgets->-r requirements.txt (line 1)) (3.0.0)\n",
      "Requirement already satisfied: pure-eval in /Users/mather01/Library/Python/3.11/lib/python/site-packages (from stack_data->ipython>=6.1.0->ipywidgets->-r requirements.txt (line 1)) (0.2.3)\n",
      "Using cached pyyml-0.0.2-py2.py3-none-any.whl (1.5 kB)\n",
      "Installing collected packages: pyyml\n",
      "Successfully installed pyyml-0.0.2\n",
      "\n",
      "\u001b[1m[\u001b[0m\u001b[34;49mnotice\u001b[0m\u001b[1;39;49m]\u001b[0m\u001b[39;49m A new release of pip is available: \u001b[0m\u001b[31;49m23.2.1\u001b[0m\u001b[39;49m -> \u001b[0m\u001b[32;49m25.0.1\u001b[0m\n",
      "\u001b[1m[\u001b[0m\u001b[34;49mnotice\u001b[0m\u001b[1;39;49m]\u001b[0m\u001b[39;49m To update, run: \u001b[0m\u001b[32;49mpython3 -m pip install --upgrade pip\u001b[0m\n",
      "Note: you may need to restart the kernel to use updated packages.\n"
     ]
    }
   ],
   "source": [
    "# Install the required packages\n",
    "%pip install -r requirements.txt"
   ]
  },
  {
   "cell_type": "markdown",
   "metadata": {},
   "source": [
    "# Visualize SDS Data\n",
    "\n",
    "The provided code snippet is a Jupyter Notebook cell that allows users to select and visualize data from .sds files using a dropdown. Run the block to populate the dropdown menu with the files in the folder Test."
   ]
  },
  {
   "cell_type": "code",
   "execution_count": null,
   "metadata": {},
   "outputs": [
    {
     "name": "stdout",
     "output_type": "stream",
     "text": [
      "Requirement already satisfied: pyyaml in /Library/Frameworks/Python.framework/Versions/3.11/lib/python3.11/site-packages (6.0.2)\n",
      "Requirement already satisfied: ipywidgets in /Library/Frameworks/Python.framework/Versions/3.11/lib/python3.11/site-packages (8.1.5)\n",
      "Requirement already satisfied: matplotlib in /Library/Frameworks/Python.framework/Versions/3.11/lib/python3.11/site-packages (3.10.1)\n",
      "\u001b[31mERROR: Could not find a version that satisfies the requirement sdslib (from versions: none)\u001b[0m\u001b[31m\n",
      "\u001b[0m\u001b[31mERROR: No matching distribution found for sdslib\u001b[0m\u001b[31m\n",
      "\u001b[0m\n",
      "\u001b[1m[\u001b[0m\u001b[34;49mnotice\u001b[0m\u001b[1;39;49m]\u001b[0m\u001b[39;49m A new release of pip is available: \u001b[0m\u001b[31;49m23.2.1\u001b[0m\u001b[39;49m -> \u001b[0m\u001b[32;49m25.0.1\u001b[0m\n",
      "\u001b[1m[\u001b[0m\u001b[34;49mnotice\u001b[0m\u001b[1;39;49m]\u001b[0m\u001b[39;49m To update, run: \u001b[0m\u001b[32;49mpython3 -m pip install --upgrade pip\u001b[0m\n",
      "Note: you may need to restart the kernel to use updated packages.\n"
     ]
    },
    {
     "data": {
      "application/vnd.jupyter.widget-view+json": {
       "model_id": "6434145c339f4fda915123380dd404cd",
       "version_major": 2,
       "version_minor": 0
      },
      "text/plain": [
       "Dropdown(description='SDS Files:', options=('Select SDS File...', 'Hardware/Model1/Test/Gyroscope.0.sds', 'Har…"
      ]
     },
     "metadata": {},
     "output_type": "display_data"
    }
   ],
   "source": [
    "# Import required libraries\n",
    "import os\n",
    "import yaml\n",
    "import ipywidgets as widgets\n",
    "from IPython.display import display\n",
    "import matplotlib.pyplot as plt\n",
    "from armsdslib import plotData, RecordManager\n",
    "\n",
    "# Ensure all necessary packages are installed\n",
    "%pip install pyyaml ipywidgets matplotlib sdslib\n",
    "\n",
    "# List to store the file paths and filenames\n",
    "sds_files = []\n",
    "sds_filenames = [\"Select SDS File...\"]\n",
    "\n",
    "# Walk through the directory to find .sds files\n",
    "for root, dirs, files in os.walk('..'):\n",
    "    for file in files:\n",
    "        if file.endswith('.sds'):\n",
    "            relative_path = os.path.relpath(os.path.join(root, file), start='..')\n",
    "            sds_files.append(os.path.join(root, file))\n",
    "            sds_filenames.append(relative_path)\n",
    "\n",
    "# Create a dropdown widget for selecting SDS files\n",
    "dropdown = widgets.Dropdown(\n",
    "    options=sds_filenames,\n",
    "    description='SDS Files:',\n",
    "    disabled=False,\n",
    ")\n",
    "\n",
    "def read_metadata(file_path):\n",
    "    \"\"\"\n",
    "    Reads the sds.yml metadata file and returns its contents as a dictionary.\n",
    "    \"\"\"\n",
    "    base_name = os.path.basename(file_path).rsplit('.', 2)[0]\n",
    "    metadata_path = os.path.join(os.path.dirname(file_path), f\"{base_name}.sds.yml\")\n",
    "    if os.path.exists(metadata_path):\n",
    "        with open(metadata_path, 'r') as file:\n",
    "            metadata = yaml.load(file, Loader=yaml.FullLoader)[\"sds\"]\n",
    "        print(f\"Metadata loaded from {metadata_path}\")\n",
    "        return metadata\n",
    "    else:\n",
    "        print(f\"Metadata file not found: {metadata_path}\")\n",
    "        return None\n",
    "\n",
    "def display_file_content(change):\n",
    "    \"\"\"\n",
    "    Callback function to display the content of the selected SDS file.\n",
    "    This function reads the selected SDS file, processes the data, and visualizes it using plotData from sdslib.\n",
    "    \"\"\"\n",
    "    \n",
    "    print(\"Callback function called\")\n",
    "    print(change)\n",
    "    selected_filename = change['new']\n",
    "    if selected_filename == \"Select SDS File...\":\n",
    "        return\n",
    "    \n",
    "    selected_filepath = sds_files[sds_filenames.index(selected_filename) - 1]\n",
    "    print(f\"Selected file: {selected_filepath}\")\n",
    "    \n",
    "    # Read metadata\n",
    "    metadata = read_metadata(selected_filepath)\n",
    "    if metadata is None:\n",
    "        return\n",
    "    \n",
    "    print(f\"Metadata: {metadata}\")\n",
    "    # Create RecordManager instance\n",
    "    record_mgr = RecordManager()\n",
    "    print(\"RecordManager instance created\")\n",
    "\n",
    "    # Open and read the SDS file\n",
    "    with open(selected_filepath, 'rb') as file:\n",
    "        data = record_mgr.getData(file)\n",
    "    print(\"SDS file data read\")\n",
    "\n",
    "    # Check if data is correctly parsed\n",
    "    if not isinstance(data, bytearray):\n",
    "        print(f\"Error: Unable to parse data from {selected_filename}\")\n",
    "        return\n",
    "\n",
    "    # Extract metadata information\n",
    "    data_name = metadata[\"name\"]\n",
    "    data_desc = metadata[\"content\"]\n",
    "    data_freq = metadata[\"frequency\"]\n",
    "    if not data_freq > 0:\n",
    "        print(f\"Error: Sample frequency must be greater than 0 (f = {data_freq})\")\n",
    "        return\n",
    "\n",
    "    # Plot data using plotData from sdslib\n",
    "    plotData(data, data_desc, data_freq, data_name, view3D=False)\n",
    "\n",
    "# Attach the callback function to the dropdown\n",
    "dropdown.observe(display_file_content, names='value')\n",
    "\n",
    "# Display the dropdown widget\n",
    "display(dropdown)\n",
    "\n",
    "# Manually call the display_file_content function for testing\n",
    "#test_file = sds_filenames[4]  # Replace with the index of the file you want to test\n",
    "#mock_change = {'new': test_file}\n",
    "#display_file_content(mock_change)\n"
   ]
  }
 ],
 "metadata": {
  "kernelspec": {
   "display_name": "Python 3",
   "language": "python",
   "name": "python3"
  },
  "language_info": {
   "codemirror_mode": {
    "name": "ipython",
    "version": 3
   },
   "file_extension": ".py",
   "mimetype": "text/x-python",
   "name": "python",
   "nbconvert_exporter": "python",
   "pygments_lexer": "ipython3",
   "version": "3.11.5"
  }
 },
 "nbformat": 4,
 "nbformat_minor": 2
}
