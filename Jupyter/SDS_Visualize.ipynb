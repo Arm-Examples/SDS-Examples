{
 "cells": [
  {
   "cell_type": "code",
   "execution_count": null,
   "metadata": {
    "tags": [
     "Optional"
    ]
   },
   "outputs": [],
   "source": [
    "# Install the required packages\n",
    "%pip install -r requirements.txt"
   ]
  },
  {
   "cell_type": "markdown",
   "metadata": {},
   "source": [
    "# Visualize SDS Data\n",
    "\n",
    "The provided code snippet is a Jupyter Notebook cell that allows users to select and visualize data from .sds files using a dropdown. Run the block to populate the dropdown menu with the files in the folder Test."
   ]
  },
  {
   "cell_type": "code",
   "execution_count": null,
   "metadata": {},
   "outputs": [],
   "source": [
    "# Run this cell at least once, for core SDS functions to be available\n",
    "import os\n",
    "import yaml\n",
    "import ipywidgets as widgets\n",
    "from IPython.display import display\n",
    "import matplotlib.pyplot as plt\n",
    "from armsdslib import plotData, RecordManager\n",
    "\n",
    "\n",
    "def read_metadata(file_path):\n",
    "    \"\"\"\n",
    "    Reads the sds.yml metadata file and returns its contents as a dictionary.\n",
    "    \"\"\"\n",
    "    base_name = os.path.basename(file_path).rsplit('.', 2)[0]\n",
    "    metadata_path = os.path.join(os.path.dirname(file_path), f\"{base_name}.sds.yml\")\n",
    "    if os.path.exists(metadata_path):\n",
    "        with open(metadata_path, 'r') as file:\n",
    "            metadata = yaml.load(file, Loader=yaml.FullLoader)[\"sds\"]\n",
    "        print(f\"Metadata loaded from {metadata_path}\")\n",
    "        return metadata\n",
    "    else:\n",
    "        print(f\"Metadata file not found: {metadata_path}\")\n",
    "        return None\n",
    "\n",
    "def display_file_content(change):\n",
    "    \"\"\"\n",
    "    Callback function to display the content of the selected SDS file.\n",
    "    This function reads the selected SDS file, processes the data, and visualizes it using plotData from sdslib.\n",
    "    \"\"\"\n",
    "    \n",
    "    print(\"Callback function called\")\n",
    "    print(change)\n",
    "    selected_filename = change['new']\n",
    "    if selected_filename == \"Select SDS File...\":\n",
    "        return\n",
    "    \n",
    "    selected_filepath = sds_files[sds_filenames.index(selected_filename) - 1]\n",
    "    print(f\"Selected file: {selected_filepath}\")\n",
    "    \n",
    "    # Read metadata\n",
    "    metadata = read_metadata(selected_filepath)\n",
    "    if metadata is None:\n",
    "        return\n",
    "    \n",
    "    print(f\"Metadata: {metadata}\")\n",
    "    # Create RecordManager instance\n",
    "    record_mgr = RecordManager()\n",
    "    print(\"RecordManager instance created\")\n",
    "\n",
    "    # Open and read the SDS file\n",
    "    with open(selected_filepath, 'rb') as file:\n",
    "        data = record_mgr.getData(file)\n",
    "    print(\"SDS file data read\")\n",
    "\n",
    "    # Check if data is correctly parsed\n",
    "    if not isinstance(data, bytearray):\n",
    "        print(f\"Error: Unable to parse data from {selected_filename}\")\n",
    "        return\n",
    "\n",
    "    # Extract metadata information\n",
    "    data_name = metadata[\"name\"]\n",
    "    data_desc = metadata[\"content\"]\n",
    "    data_freq = metadata[\"frequency\"]\n",
    "    if not data_freq > 0:\n",
    "        print(f\"Error: Sample frequency must be greater than 0 (f = {data_freq})\")\n",
    "        return\n",
    "\n",
    "    # Plot data using plotData from sdslib\n",
    "    plotData(data, data_desc, data_freq, data_name, view3D=False)"
   ]
  },
  {
   "cell_type": "code",
   "execution_count": null,
   "metadata": {},
   "outputs": [],
   "source": [
    "# Run this cell to scan for new SDS files in subfolders of the sds-examples directory\n",
    "# This cell will create a dropdown widget for selecting the SDS\n",
    "sds_files = []\n",
    "sds_filenames = [\"Select SDS File...\"]\n",
    "\n",
    "# Walk through the directory to find .sds files\n",
    "for root, dirs, files in os.walk('..'):\n",
    "    for file in files:\n",
    "        if file.endswith('.sds'):\n",
    "            relative_path = os.path.relpath(os.path.join(root, file), start='..')\n",
    "            sds_files.append(os.path.join(root, file))\n",
    "            sds_filenames.append(relative_path)\n",
    "\n",
    "# Create a dropdown widget for selecting SDS files\n",
    "dropdown = widgets.Dropdown(\n",
    "    options=sds_filenames,\n",
    "    description='SDS Files:',\n",
    "    disabled=False,\n",
    ")\n",
    "\n",
    "\n",
    "# Attach the callback function to the dropdown\n",
    "dropdown.observe(display_file_content, names='value')\n",
    "\n",
    "# Display the dropdown widget\n",
    "display(dropdown)\n",
    "\n"
   ]
  }
 ],
 "metadata": {
  "kernelspec": {
   "display_name": "Python 3",
   "language": "python",
   "name": "python3"
  },
  "language_info": {
   "codemirror_mode": {
    "name": "ipython",
    "version": 3
   },
   "file_extension": ".py",
   "mimetype": "text/x-python",
   "name": "python",
   "nbconvert_exporter": "python",
   "pygments_lexer": "ipython3",
   "version": "3.11.5"
  }
 },
 "nbformat": 4,
 "nbformat_minor": 2
}
